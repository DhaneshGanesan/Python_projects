{
 "cells": [
  {
   "cell_type": "code",
   "execution_count": 173,
   "id": "9fe9ca33",
   "metadata": {},
   "outputs": [],
   "source": [
    "#Import all the required lib\n",
    "import pyspark\n",
    "from pyspark.sql import SparkSession\n",
    "import pyspark.sql.functions as f\n",
    "from pyspark.sql.types import StructType,StructField, StringType, IntegerType, DoubleType, DateType \n",
    "from pyspark.sql.functions import concat_ws, split, lit, to_timestamp, unix_timestamp, acos, cos, sin, lit, toRadians, lag\n",
    "from pyspark.sql import Window"
   ]
  },
  {
   "cell_type": "code",
   "execution_count": 4,
   "id": "bdaf8e6e",
   "metadata": {},
   "outputs": [],
   "source": [
    "#Creating a spark session as this will be the entry part for the program\n",
    "spark = SparkSession.builder.appName(\"Assignment 1\").getOrCreate()"
   ]
  },
  {
   "cell_type": "code",
   "execution_count": 79,
   "id": "c426c7ad",
   "metadata": {},
   "outputs": [],
   "source": [
    "#Here we create the schema for the dataframe which we'll read\n",
    "schema = StructType([\n",
    "    StructField(\"UserId\",IntegerType(),True), \\\n",
    "    StructField(\"Latitude\",DoubleType(),True), \\\n",
    "    StructField(\"Longitude\",DoubleType(),True), \\\n",
    "    StructField(\"AllZero\",IntegerType(),True), \\\n",
    "    StructField(\"Altitude\",DoubleType(),True), \\\n",
    "    StructField(\"Timestamp\",StringType(),True), \\\n",
    "    StructField(\"Date\",StringType(),True), \\\n",
    "    StructField(\"Time\",StringType(),True)\n",
    "  ])"
   ]
  },
  {
   "cell_type": "code",
   "execution_count": 80,
   "id": "fef7cc82",
   "metadata": {},
   "outputs": [],
   "source": [
    "#Read the file into the Dataframe\n",
    "df = spark.read.option(\"multiline\",\"true\").option(\"header\", \"true\").schema(schema).csv(\"dataset.txt\")"
   ]
  },
  {
   "cell_type": "code",
   "execution_count": 81,
   "id": "a0a3d5f8",
   "metadata": {},
   "outputs": [
    {
     "name": "stdout",
     "output_type": "stream",
     "text": [
      "+------+------------+-------------+-------+----------------+----------------+----------+--------+\n",
      "|UserId|    Latitude|    Longitude|AllZero|        Altitude|       Timestamp|      Date|    Time|\n",
      "+------+------------+-------------+-------+----------------+----------------+----------+--------+\n",
      "|   100|39.974408918|116.303522101|      0|480.287355643045|40753.5306944444|2011-07-29|12:44:12|\n",
      "|   100|39.974397078|116.303526932|      0|480.121151574803|40753.5307060185|2011-07-29|12:44:13|\n",
      "|   100|39.973982524|116.303621837|      0|478.499455380577|40753.5307291667|2011-07-29|12:44:15|\n",
      "|   100|39.973943291|116.303632641|      0|479.176988188976|40753.5307407407|2011-07-29|12:44:16|\n",
      "|   100|39.973937148|116.303639667|      0|479.129432414698|40753.5307523148|2011-07-29|12:44:17|\n",
      "+------+------------+-------------+-------+----------------+----------------+----------+--------+\n",
      "only showing top 5 rows\n",
      "\n"
     ]
    }
   ],
   "source": [
    "#Show the content to Verify the records\n",
    "df.show(5)"
   ]
  },
  {
   "cell_type": "code",
   "execution_count": 126,
   "id": "e9fca282",
   "metadata": {},
   "outputs": [],
   "source": [
    "#Convert the Date and time column to a datetime column\n",
    "dt_tm = df.select(\"UserId\", \"Latitude\", \"Longitude\", \"AllZero\", \"Altitude\", \"Timestamp\", \"Date\", \"Time\", concat(df.Date, lit(\" \"), df.Time).alias(\"DateTime\"))\n",
    "df1 = dt_tm.withColumn(\"DateTime\", =to_timestamp(dt_tm.DateTime)) "
   ]
  },
  {
   "cell_type": "code",
   "execution_count": 127,
   "id": "6e213f9d",
   "metadata": {},
   "outputs": [
    {
     "name": "stdout",
     "output_type": "stream",
     "text": [
      "+------+------------+-------------+-------+----------------+----------------+----------+--------+-------------------+\n",
      "|UserId|    Latitude|    Longitude|AllZero|        Altitude|       Timestamp|      Date|    Time|           DateTime|\n",
      "+------+------------+-------------+-------+----------------+----------------+----------+--------+-------------------+\n",
      "|   100|39.974408918|116.303522101|      0|480.287355643045|40753.5306944444|2011-07-29|12:44:12|2011-07-29 12:44:12|\n",
      "|   100|39.974397078|116.303526932|      0|480.121151574803|40753.5307060185|2011-07-29|12:44:13|2011-07-29 12:44:13|\n",
      "|   100|39.973982524|116.303621837|      0|478.499455380577|40753.5307291667|2011-07-29|12:44:15|2011-07-29 12:44:15|\n",
      "|   100|39.973943291|116.303632641|      0|479.176988188976|40753.5307407407|2011-07-29|12:44:16|2011-07-29 12:44:16|\n",
      "|   100|39.973937148|116.303639667|      0|479.129432414698|40753.5307523148|2011-07-29|12:44:17|2011-07-29 12:44:17|\n",
      "+------+------------+-------------+-------+----------------+----------------+----------+--------+-------------------+\n",
      "only showing top 5 rows\n",
      "\n"
     ]
    }
   ],
   "source": [
    "df1.show(5)"
   ]
  },
  {
   "cell_type": "code",
   "execution_count": 128,
   "id": "ac750517",
   "metadata": {},
   "outputs": [],
   "source": [
    "#Clean the data and change the Datetime from GMT to GMT+8\n",
    "df2 = df1.withColumn('datetimeBj', f.from_utc_timestamp(df1.DateTime, 'GMT+8'))"
   ]
  },
  {
   "cell_type": "code",
   "execution_count": 131,
   "id": "f5123ddd",
   "metadata": {},
   "outputs": [
    {
     "name": "stdout",
     "output_type": "stream",
     "text": [
      "+------+------------+-------------+-------+----------------+----------------+----------+--------+-------------------+-------------------+\n",
      "|UserId|Latitude    |Longitude    |AllZero|Altitude        |Timestamp       |Date      |Time    |DateTime           |datetimeBj         |\n",
      "+------+------------+-------------+-------+----------------+----------------+----------+--------+-------------------+-------------------+\n",
      "|100   |39.974408918|116.303522101|0      |480.287355643045|40753.5306944444|2011-07-29|12:44:12|2011-07-29 12:44:12|2011-07-29 20:44:12|\n",
      "|100   |39.974397078|116.303526932|0      |480.121151574803|40753.5307060185|2011-07-29|12:44:13|2011-07-29 12:44:13|2011-07-29 20:44:13|\n",
      "|100   |39.973982524|116.303621837|0      |478.499455380577|40753.5307291667|2011-07-29|12:44:15|2011-07-29 12:44:15|2011-07-29 20:44:15|\n",
      "|100   |39.973943291|116.303632641|0      |479.176988188976|40753.5307407407|2011-07-29|12:44:16|2011-07-29 12:44:16|2011-07-29 20:44:16|\n",
      "|100   |39.973937148|116.303639667|0      |479.129432414698|40753.5307523148|2011-07-29|12:44:17|2011-07-29 12:44:17|2011-07-29 20:44:17|\n",
      "+------+------------+-------------+-------+----------------+----------------+----------+--------+-------------------+-------------------+\n",
      "only showing top 5 rows\n",
      "\n"
     ]
    }
   ],
   "source": [
    "df2.show(5, False)"
   ]
  },
  {
   "cell_type": "code",
   "execution_count": 132,
   "id": "fd885fa7",
   "metadata": {},
   "outputs": [
    {
     "name": "stdout",
     "output_type": "stream",
     "text": [
      "+------+-----+\n",
      "|UserId|count|\n",
      "+------+-----+\n",
      "|104   |31   |\n",
      "|112   |31   |\n",
      "|119   |31   |\n",
      "|126   |31   |\n",
      "|128   |31   |\n",
      "+------+-----+\n",
      "only showing top 5 rows\n",
      "\n"
     ]
    }
   ],
   "source": [
    "#Number of times data has been recorded for each user\n",
    "dfWithDay = df2.withColumn(\"day\", f.dayofmonth(df2.datetimeBj))\n",
    "question2 = dfWithDay.select(\"UserId\", \"day\").distinct()\n",
    "question2.groupBy(\"UserId\").count().orderBy(f.col(\"count\").desc(),f.col(\"UserId\").asc()).show(5, False)"
   ]
  },
  {
   "cell_type": "code",
   "execution_count": 133,
   "id": "f1ce6b3e",
   "metadata": {},
   "outputs": [
    {
     "name": "stdout",
     "output_type": "stream",
     "text": [
      "+------+---+-----+\n",
      "|UserId|day|count|\n",
      "+------+---+-----+\n",
      "|   126| 26|16431|\n",
      "|   128| 21|39158|\n",
      "|   103| 19| 1381|\n",
      "|   104|  5| 1974|\n",
      "|   113| 27| 1445|\n",
      "|   115| 19| 3618|\n",
      "|   115|  5| 3966|\n",
      "|   101| 30| 1532|\n",
      "|   104| 29|  760|\n",
      "|   125| 12| 1964|\n",
      "|   128| 20|38632|\n",
      "|   103|  6|  576|\n",
      "|   112|  2| 1892|\n",
      "|   114|  9|  579|\n",
      "|   115| 16| 7342|\n",
      "|   119| 15| 3707|\n",
      "|   125|  2| 4859|\n",
      "|   126| 25| 3126|\n",
      "|   114|  8|  761|\n",
      "|   104| 20| 1435|\n",
      "+------+---+-----+\n",
      "only showing top 20 rows\n",
      "\n"
     ]
    }
   ],
   "source": [
    "#Number of times where the count is greater than 100\n",
    "question3 = dfWithDay.select(\"UserId\", \"day\").groupBy(\"UserId\", \"day\").count().filter(f.col('count') >= 100)\n",
    "question3.show()"
   ]
  },
  {
   "cell_type": "code",
   "execution_count": 137,
   "id": "9cd0c3c2",
   "metadata": {},
   "outputs": [
    {
     "name": "stdout",
     "output_type": "stream",
     "text": [
      "+------+----------------+----------+\n",
      "|UserId|Altitude        |Date      |\n",
      "+------+----------------+----------+\n",
      "|128   |107503.3        |2009-11-02|\n",
      "|106   |36581.3648293963|2007-10-09|\n",
      "|103   |25259.2         |2008-09-12|\n",
      "|101   |24806.4         |2008-03-28|\n",
      "|126   |19432.4         |2008-06-22|\n",
      "+------+----------------+----------+\n",
      "only showing top 5 rows\n",
      "\n"
     ]
    }
   ],
   "source": [
    "#The highest altitude for each person\n",
    "w = Window.partitionBy('UserId')\n",
    "question4 = dfWithDay.withColumn('maxB', f.max('Altitude').over(w))\\\n",
    "    .where(f.col('Altitude') == f.col('maxB'))\\\n",
    "    .drop('maxB')\n",
    "question4.select(\"UserId\", \"Altitude\", \"Date\").distinct().orderBy(f.col(\"Altitude\").desc()).show(5, False)"
   ]
  },
  {
   "cell_type": "code",
   "execution_count": 168,
   "id": "6ac9765f",
   "metadata": {},
   "outputs": [
    {
     "name": "stdout",
     "output_type": "stream",
     "text": [
      "+------+-------------------+----------------+\n",
      "|UserId|           DateTime|max(days_passed)|\n",
      "+------+-------------------+----------------+\n",
      "|   114|2010-05-10 13:24:00|             934|\n",
      "|   111|2009-07-14 21:37:22|             675|\n",
      "|   115|2008-04-09 10:27:03|             133|\n",
      "|   128|2008-04-05 01:11:27|             129|\n",
      "|   128|2007-11-28 12:30:35|             121|\n",
      "+------+-------------------+----------------+\n",
      "only showing top 5 rows\n",
      "\n"
     ]
    }
   ],
   "source": [
    "#Max timespan for each user\n",
    "window = Window.partitionBy('UserId').orderBy('DateTime')\n",
    "question5_a == dfWithDay.withColumn(\"days_passed\", f.datediff(dfWithDay.DateTime, \n",
    "                                  f.lag(dfWithDay.DateTime, 1).over(window)))\n",
    "question5_a.groupBy(\"UserId\",\"DateTime\").agg(f.max(\"days_passed\")).orderBy(f.col(\"max(days_passed)\").desc()).show(5)"
   ]
  },
  {
   "cell_type": "code",
   "execution_count": 170,
   "id": "32a669ba",
   "metadata": {},
   "outputs": [],
   "source": [
    "#Define a function to find the distance based in latitude and longitude\n",
    "def dist(long_x, lat_x, long_y, lat_y):\n",
    "    return acos(\n",
    "        sin(toRadians(lat_x)) * sin(toRadians(lat_y)) + \n",
    "        cos(toRadians(lat_x)) * cos(toRadians(lat_y)) * \n",
    "            cos(toRadians(long_x) - toRadians(long_y))\n",
    "    ) * lit(6371.0)"
   ]
  },
  {
   "cell_type": "code",
   "execution_count": 181,
   "id": "c1bcfec1",
   "metadata": {},
   "outputs": [
    {
     "name": "stdout",
     "output_type": "stream",
     "text": [
      "+------+----------+------------------+\n",
      "|UserId|      Date|         sum(dist)|\n",
      "+------+----------+------------------+\n",
      "|   108|2007-10-02|1.6587260860085606|\n",
      "|   108|2007-10-03|43.631893458311964|\n",
      "|   108|2007-10-04| 147.0055120203384|\n",
      "|   108|2007-10-06|121.43545197781773|\n",
      "|   108|2007-10-07| 7.560496310794932|\n",
      "|   108|2007-10-08|3.5475681716161547|\n",
      "|   108|2007-10-09| 1.526404310495542|\n",
      "|   101|2007-11-30| 35.71357885259294|\n",
      "|   101|2007-12-02| 26.28155622300305|\n",
      "|   101|2007-12-03|13.946825605235945|\n",
      "|   101|2007-12-07|21.582506892854884|\n",
      "|   101|2007-12-11|1.2158358355356826|\n",
      "|   101|2007-12-12| 5.240018538952616|\n",
      "|   101|2007-12-13| 131.2705465948174|\n",
      "|   101|2007-12-15| 134.2261667257604|\n",
      "|   101|2007-12-19| 157.9404104628446|\n",
      "|   101|2007-12-22| 222.8093068237573|\n",
      "|   101|2007-12-23| 8.639073137599118|\n",
      "|   101|2007-12-26|2.4209762057765114|\n",
      "|   101|2007-12-27|3.9078701419516726|\n",
      "+------+----------+------------------+\n",
      "only showing top 20 rows\n",
      "\n"
     ]
    }
   ],
   "source": [
    "#We define a window based on UsedId and order the data based on DateTime and used lag function we find the distance travelled be each user\n",
    "w_question6 = Window().partitionBy(\"UserId\").orderBy(\"DateTime\")\n",
    "question6 = dfWithDay.withColumn(\"dist\", dist(\n",
    "    \"Longitude\", \"Latitude\",\n",
    "    lag(\"Longitude\", 1).over(w_question6), lag(\"Latitude\", 1).over(w_question6)\n",
    ").alias(\"dist\"))\n",
    "question6_a = question6.select(\"UserId\", \"dist\", \"Date\").groupBy(\"UserId\", \"Date\").agg(f.sum(\"dist\")).filter(f.col(\"sum(dist)\") != \"NaN\")\n",
    "question6_a.show()"
   ]
  },
  {
   "cell_type": "code",
   "execution_count": 186,
   "id": "d8719e1d",
   "metadata": {},
   "outputs": [
    {
     "name": "stdout",
     "output_type": "stream",
     "text": [
      "+------+----------+------------------+\n",
      "|UserId|      Date|         sum(dist)|\n",
      "+------+----------+------------------+\n",
      "|   108|2007-10-04| 147.0055120203384|\n",
      "|   101|2008-01-25| 912.3501366350881|\n",
      "|   115|2007-11-28| 2097.446018079143|\n",
      "|   126|2008-05-01|372.51247632567714|\n",
      "|   103|2008-09-19| 29.44931227567783|\n",
      "|   128|2009-02-22|10090.016973407062|\n",
      "|   122|2009-07-31|1967.2757652846492|\n",
      "|   111|2007-09-05| 2462.021045854465|\n",
      "|   117|2007-06-22| 26.30900937760673|\n",
      "|   112|2008-02-02| 1078.383461221913|\n",
      "|   127|2008-10-05|1028.5007633041885|\n",
      "|   107|2007-10-07| 8.659731775734203|\n",
      "|   114|2010-05-28| 46.56970415564099|\n",
      "|   100|2011-07-29|10.965117553721749|\n",
      "|   130|2009-07-12|103.34148374177562|\n",
      "|   129|2008-05-02| 317.7130265707075|\n",
      "|   102|2011-12-31|31.239379907177888|\n",
      "|   113|2010-05-20|19.666718577249753|\n",
      "|   121|2009-10-05|12.850327012071368|\n",
      "|   125|2008-08-27|1597.3327329740112|\n",
      "+------+----------+------------------+\n",
      "only showing top 20 rows\n",
      "\n"
     ]
    }
   ],
   "source": [
    "#For each user output the (earliest) day they travelled the most\n",
    "w_6_b = Window.partitionBy('UserId')\n",
    "question6_b = question6_a.withColumn('maxB', f.max('sum(dist)').over(w_6_b))\\\n",
    "    .where(f.col('sum(dist)') == f.col('maxB'))\\\n",
    "    .drop('maxB')\n",
    "\n",
    "question6_b.show()"
   ]
  },
  {
   "cell_type": "code",
   "execution_count": 187,
   "id": "b4ff34d2",
   "metadata": {},
   "outputs": [
    {
     "name": "stdout",
     "output_type": "stream",
     "text": [
      "+------------------+\n",
      "|         total_sum|\n",
      "+------------------+\n",
      "|124208.62254385433|\n",
      "+------------------+\n",
      "\n"
     ]
    }
   ],
   "source": [
    "#Find the total distance by all the users\n",
    "question6_c = question6_a.select(f.sum(\"sum(dist)\").alias(\"total_sum\"))\n",
    "question6_c.show()"
   ]
  }
 ],
 "metadata": {
  "kernelspec": {
   "display_name": "Python 3",
   "language": "python",
   "name": "python3"
  },
  "language_info": {
   "codemirror_mode": {
    "name": "ipython",
    "version": 3
   },
   "file_extension": ".py",
   "mimetype": "text/x-python",
   "name": "python",
   "nbconvert_exporter": "python",
   "pygments_lexer": "ipython3",
   "version": "3.8.5"
  }
 },
 "nbformat": 4,
 "nbformat_minor": 5
}
